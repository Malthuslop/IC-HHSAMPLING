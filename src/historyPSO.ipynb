{
 "cells": [
  {
   "cell_type": "code",
   "execution_count": 2,
   "metadata": {},
   "outputs": [],
   "source": [
    "from hhsolver import *\n",
    "import aspose.words as aw\n",
    "from PIL import Image"
   ]
  },
  {
   "cell_type": "code",
   "execution_count": 3,
   "metadata": {},
   "outputs": [],
   "source": [
    "%load_ext autoreload\n"
   ]
  },
  {
   "cell_type": "code",
   "execution_count": 4,
   "metadata": {},
   "outputs": [],
   "source": [
    "%autoreload 2"
   ]
  },
  {
   "cell_type": "code",
   "execution_count": 15,
   "metadata": {},
   "outputs": [],
   "source": [
    "# HHsampling = função para gerar as alocações com o método do HH (haphazard)\n",
    "\n",
    "# x is transformed data\n",
    "# lamb is pure lambda in [0,1]\n",
    "# sample_size is number of elements to sample\n",
    "# noise is list of size n, alloc with transformed noise matrices\n",
    "# returns a dictionary with entries:\n",
    "#   allocs: matrix n x n alloc where each column j is an allocation associated to noise j\n",
    "#   distq95: 95th percentile of Mahalanobis distances for each allocation using only original data x\n",
    "#   fkappa: fleiss kappa of allocations\n",
    "def hhsampling(x, lamb, nalloc, sample_size, noise, populations, hh_solver_strategy):\n",
    "\n",
    "    ma = noise[0].shape[1] # number of columns in noise matrix\n",
    "    m = x.shape[1]\n",
    "\n",
    "    res = {\"allocs\": None, \"distq95\": 0, \"fkappa\": 0, \"dist\": None}\n",
    "\n",
    "    # CHECK IF LAMBDA IS CORRECT\n",
    "    lamb = lamb/(lamb*(1-ma/m) + ma/m)\n",
    "\n",
    "    dist = []\n",
    "\n",
    "    allocs = np.zeros((nalloc, x.shape[0]), dtype=int)\n",
    "\n",
    "    for j in range(nalloc):\n",
    "\n",
    "        xz = np.concatenate(((1-lamb)*x, lamb*noise[j]), axis=1)\n",
    "\n",
    "        solver = hh_solver_strategy(xz, sample_size) # \n",
    "        solver.init_pop = populations[j] # generate_pop(50, solver.sample_size, solver.data.shape[0]) # !!\n",
    "\n",
    "        w_index = solver.get_best_alloc()\n",
    "        # print(w_index)\n",
    "        # d = obj_func(w_index,x)\n",
    "        # allocs[j][w_index] = 1\n",
    "        # dist.append(d)\n",
    "\n",
    "    # res[\"allocs\"] = allocs.T\n",
    "    # res[\"dist\"] = dist\n",
    "    # distq95 = np.percentile(np.array(dist), 100)\n",
    "    \n",
    "    # res[\"distq95\"] = distq95\n",
    "    # fkappaval = fleiss_kappa_allocs(allocs.T)\n",
    "    # res[\"fkappa\"] = fkappaval\n",
    "    \n",
    "    return res\n"
   ]
  },
  {
   "cell_type": "code",
   "execution_count": 10,
   "metadata": {},
   "outputs": [],
   "source": [
    "file_path = '../data/Candidatos20230803_n.txt'\n",
    "data = collect_data(file_path=file_path).to_numpy()\n",
    "\n",
    "lambda_n = 0#, 0.1, 0.15, 0.2, 0.25, 0.3, 0.35, 0.4, 0.45, 0.5]\n",
    "\n",
    "nalloc = 2\n",
    "\n",
    "sample_size = [60]#[60, 120, 180, 240] \n",
    "\n",
    "fileNames = []\n",
    "\n",
    "# hhsamplingGA require transformed data\n",
    "x = data @ inversecholcov(data)\n",
    "solver = HHSolverPSO"
   ]
  },
  {
   "cell_type": "code",
   "execution_count": 24,
   "metadata": {},
   "outputs": [
    {
     "name": "stdout",
     "output_type": "stream",
     "text": [
      "False\n",
      "False\n"
     ]
    }
   ],
   "source": [
    "# Teste com lambda 0\n",
    "# fig, axs = plt.subplots(len(sample_size), 1, figsize=(8, 10), sharex=True)\n",
    "# min = []\n",
    "for index, sample in enumerate(sample_size):\n",
    "        # pre-generate noises used in each batch\n",
    "        ma = 2\n",
    "        noise = []\n",
    "        populations = []\n",
    "        for i in range(nalloc):\n",
    "            z = generate_noise(x.shape[0], ma)\n",
    "            # hhsamplingGA require transformed noise\n",
    "            zt = z @ inversecholcov(z)\n",
    "            noise.append(zt)\n",
    "            populations.append(generate_pop(50, sample, x.shape[0]))\n",
    "\n",
    "        stats_aux = {\"distq95\": [], \"fkappa\": []}\n",
    "\n",
    "        #for i in range(len(lambdas)):\n",
    "        res = hhsampling(x, lambda_n, nalloc, sample, noise, populations, solver)\n",
    "        for k in stats_aux:\n",
    "            stats_aux[k].append(res[k])\n",
    "        \n",
    "        # dist = list(np.array(res[\"dist\"]))\n",
    "        # plt.subplot(len(sample_size), 1, index+1)\n",
    "        \n",
    "        # plt.hist(x = dist,bins=30)\n",
    "        # min.append(min(dist))\n",
    "        # plt.title(f'Sample Size: {sample}') \n",
    "       \n",
    "# plt.tight_layout()\n",
    "# plt.show()\n"
   ]
  },
  {
   "cell_type": "code",
   "execution_count": null,
   "metadata": {},
   "outputs": [],
   "source": []
  }
 ],
 "metadata": {
  "kernelspec": {
   "display_name": "Python 3 (ipykernel)",
   "language": "python",
   "name": "python3"
  },
  "language_info": {
   "codemirror_mode": {
    "name": "ipython",
    "version": 3
   },
   "file_extension": ".py",
   "mimetype": "text/x-python",
   "name": "python",
   "nbconvert_exporter": "python",
   "pygments_lexer": "ipython3",
   "version": "3.10.12"
  }
 },
 "nbformat": 4,
 "nbformat_minor": 2
}
