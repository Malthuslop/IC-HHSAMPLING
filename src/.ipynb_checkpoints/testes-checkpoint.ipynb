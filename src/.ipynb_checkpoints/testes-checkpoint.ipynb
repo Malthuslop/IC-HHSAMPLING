{
 "cells": [
  {
   "cell_type": "code",
   "execution_count": 13,
   "metadata": {},
   "outputs": [],
   "source": [
    "from hhsolver import *\n",
    "import aspose.words as aw\n",
    "from PIL import Image\n",
    "from hhsampling import *"
   ]
  },
  {
   "cell_type": "code",
   "execution_count": 14,
   "metadata": {},
   "outputs": [
    {
     "name": "stdout",
     "output_type": "stream",
     "text": [
      "The autoreload extension is already loaded. To reload it, use:\n",
      "  %reload_ext autoreload\n"
     ]
    }
   ],
   "source": [
    "%load_ext autoreload\n",
    "%autoreload 2"
   ]
  },
  {
   "cell_type": "code",
   "execution_count": 22,
   "metadata": {},
   "outputs": [],
   "source": [
    "file_path = '../data/Candidatos20230803_n.txt'\n",
    "data = collect_data(file_path=file_path).to_numpy()\n",
    "\n",
    "lambdas = [0.05, 0.1, 0.15, 0.2, 0.25, 0.3, 0.35, 0.4, 0.45, 0.5]\n",
    "\n",
    "nalloc = 30\n",
    "\n",
    "sample_size = [60, 120, 180, 240] \n",
    "\n",
    "fileNames = []\n",
    "\n",
    "# hhsamplingGA require transformed data\n",
    "x = data @ inversecholcov(data)\n",
    "solver = HHSolverPSO"
   ]
  },
  {
   "cell_type": "code",
   "execution_count": 38,
   "metadata": {},
   "outputs": [
    {
     "ename": "OverflowError",
     "evalue": "math range error",
     "output_type": "error",
     "traceback": [
      "\u001b[0;31m---------------------------------------------------------------------------\u001b[0m",
      "\u001b[0;31mOverflowError\u001b[0m                             Traceback (most recent call last)",
      "Cell \u001b[0;32mIn[38], line 16\u001b[0m\n\u001b[1;32m     13\u001b[0m stats_aux \u001b[38;5;241m=\u001b[39m {\u001b[38;5;124m\"\u001b[39m\u001b[38;5;124mdistq95\u001b[39m\u001b[38;5;124m\"\u001b[39m: [], \u001b[38;5;124m\"\u001b[39m\u001b[38;5;124mfkappa\u001b[39m\u001b[38;5;124m\"\u001b[39m: []}\n\u001b[1;32m     15\u001b[0m \u001b[38;5;28;01mfor\u001b[39;00m i \u001b[38;5;129;01min\u001b[39;00m \u001b[38;5;28mrange\u001b[39m(\u001b[38;5;28mlen\u001b[39m(lambdas)):\n\u001b[0;32m---> 16\u001b[0m     res \u001b[38;5;241m=\u001b[39m \u001b[43mhhsampling\u001b[49m\u001b[43m(\u001b[49m\u001b[43mx\u001b[49m\u001b[43m,\u001b[49m\u001b[43m \u001b[49m\u001b[43mlambdas\u001b[49m\u001b[43m[\u001b[49m\u001b[43mi\u001b[49m\u001b[43m]\u001b[49m\u001b[43m,\u001b[49m\u001b[43m \u001b[49m\u001b[43mnalloc\u001b[49m\u001b[43m,\u001b[49m\u001b[43m \u001b[49m\u001b[43msample\u001b[49m\u001b[43m,\u001b[49m\u001b[43m \u001b[49m\u001b[43mnoise\u001b[49m\u001b[43m,\u001b[49m\u001b[43m \u001b[49m\u001b[43mpopulations\u001b[49m\u001b[43m,\u001b[49m\u001b[43msolver\u001b[49m\u001b[43m)\u001b[49m\n\u001b[1;32m     17\u001b[0m     \u001b[38;5;28;01mfor\u001b[39;00m k \u001b[38;5;129;01min\u001b[39;00m stats_aux:\n\u001b[1;32m     18\u001b[0m         stats_aux[k]\u001b[38;5;241m.\u001b[39mappend(res[k])\n",
      "File \u001b[0;32m~/Documentos/IC/codigos/novo/GA-HH-main/src/hhsampling.py:36\u001b[0m, in \u001b[0;36mhhsampling\u001b[0;34m(x, lamb, nalloc, sample_size, noise, populations, hh_solver_strategy)\u001b[0m\n\u001b[1;32m     33\u001b[0m solver \u001b[38;5;241m=\u001b[39m hh_solver_strategy(xz, sample_size) \u001b[38;5;66;03m# \u001b[39;00m\n\u001b[1;32m     34\u001b[0m solver\u001b[38;5;241m.\u001b[39minit_pop \u001b[38;5;241m=\u001b[39m populations[j] \u001b[38;5;66;03m# generate_pop(50, solver.sample_size, solver.data.shape[0]) # !!\u001b[39;00m\n\u001b[0;32m---> 36\u001b[0m w_index, d \u001b[38;5;241m=\u001b[39m \u001b[43msolver\u001b[49m\u001b[38;5;241;43m.\u001b[39;49m\u001b[43mget_best_alloc\u001b[49m\u001b[43m(\u001b[49m\u001b[43m)\u001b[49m\n\u001b[1;32m     37\u001b[0m \u001b[38;5;66;03m#print(len(w_index))\u001b[39;00m\n\u001b[1;32m     39\u001b[0m allocs[j][w_index] \u001b[38;5;241m=\u001b[39m \u001b[38;5;241m1\u001b[39m\n",
      "File \u001b[0;32m~/Documentos/IC/codigos/novo/GA-HH-main/src/hhsolver.py:99\u001b[0m, in \u001b[0;36mHHSolverPSO.get_best_alloc\u001b[0;34m(self)\u001b[0m\n\u001b[1;32m     92\u001b[0m init_pop \u001b[38;5;241m=\u001b[39m np\u001b[38;5;241m.\u001b[39marray(init_pop_list)\n\u001b[1;32m     94\u001b[0m optimizer1 \u001b[38;5;241m=\u001b[39m ps\u001b[38;5;241m.\u001b[39mdiscrete\u001b[38;5;241m.\u001b[39mBinaryPSO(n_particles\u001b[38;5;241m=\u001b[39mparticles_num, \n\u001b[1;32m     95\u001b[0m                                    dimensions\u001b[38;5;241m=\u001b[39mdimensions_num,\n\u001b[1;32m     96\u001b[0m                                    init_pos\u001b[38;5;241m=\u001b[39minit_pop, \n\u001b[1;32m     97\u001b[0m                                    options\u001b[38;5;241m=\u001b[39moptions)\n\u001b[0;32m---> 99\u001b[0m cost, pos \u001b[38;5;241m=\u001b[39m \u001b[43moptimizer1\u001b[49m\u001b[38;5;241;43m.\u001b[39;49m\u001b[43moptimize\u001b[49m\u001b[43m(\u001b[49m\u001b[43mobjective_func\u001b[49m\u001b[38;5;241;43m=\u001b[39;49m\u001b[38;5;28;43mself\u001b[39;49m\u001b[38;5;241;43m.\u001b[39;49m\u001b[43mobj_func2\u001b[49m\u001b[43m,\u001b[49m\u001b[43m \u001b[49m\u001b[43mverbose\u001b[49m\u001b[43m \u001b[49m\u001b[38;5;241;43m=\u001b[39;49m\u001b[43m \u001b[49m\u001b[38;5;28;43;01mFalse\u001b[39;49;00m\u001b[43m,\u001b[49m\u001b[43m \u001b[49m\u001b[43miters\u001b[49m\u001b[43m \u001b[49m\u001b[38;5;241;43m=\u001b[39;49m\u001b[43m \u001b[49m\u001b[43miter_num\u001b[49m\u001b[43m)\u001b[49m\n\u001b[1;32m    100\u001b[0m \u001b[38;5;28;01mreturn\u001b[39;00m np\u001b[38;5;241m.\u001b[39mwhere(pos \u001b[38;5;241m==\u001b[39m \u001b[38;5;241m1\u001b[39m)[\u001b[38;5;241m0\u001b[39m],cost\n",
      "File \u001b[0;32m~/.local/lib/python3.10/site-packages/pyswarms/discrete/binary.py:195\u001b[0m, in \u001b[0;36mBinaryPSO.optimize\u001b[0;34m(self, objective_func, iters, n_processes, verbose, **kwargs)\u001b[0m\n\u001b[1;32m    192\u001b[0m ftol_history \u001b[38;5;241m=\u001b[39m deque(maxlen\u001b[38;5;241m=\u001b[39m\u001b[38;5;28mself\u001b[39m\u001b[38;5;241m.\u001b[39mftol_iter)\n\u001b[1;32m    193\u001b[0m \u001b[38;5;28;01mfor\u001b[39;00m i \u001b[38;5;129;01min\u001b[39;00m \u001b[38;5;28mself\u001b[39m\u001b[38;5;241m.\u001b[39mrep\u001b[38;5;241m.\u001b[39mpbar(iters, \u001b[38;5;28mself\u001b[39m\u001b[38;5;241m.\u001b[39mname) \u001b[38;5;28;01mif\u001b[39;00m verbose \u001b[38;5;28;01melse\u001b[39;00m \u001b[38;5;28mrange\u001b[39m(iters):\n\u001b[1;32m    194\u001b[0m     \u001b[38;5;66;03m# Compute cost for current position and personal best\u001b[39;00m\n\u001b[0;32m--> 195\u001b[0m     \u001b[38;5;28mself\u001b[39m\u001b[38;5;241m.\u001b[39mswarm\u001b[38;5;241m.\u001b[39mcurrent_cost \u001b[38;5;241m=\u001b[39m \u001b[43mcompute_objective_function\u001b[49m\u001b[43m(\u001b[49m\n\u001b[1;32m    196\u001b[0m \u001b[43m        \u001b[49m\u001b[38;5;28;43mself\u001b[39;49m\u001b[38;5;241;43m.\u001b[39;49m\u001b[43mswarm\u001b[49m\u001b[43m,\u001b[49m\u001b[43m \u001b[49m\u001b[43mobjective_func\u001b[49m\u001b[43m,\u001b[49m\u001b[43m \u001b[49m\u001b[43mpool\u001b[49m\u001b[43m,\u001b[49m\u001b[43m \u001b[49m\u001b[38;5;241;43m*\u001b[39;49m\u001b[38;5;241;43m*\u001b[39;49m\u001b[43mkwargs\u001b[49m\n\u001b[1;32m    197\u001b[0m \u001b[43m    \u001b[49m\u001b[43m)\u001b[49m\n\u001b[1;32m    198\u001b[0m     \u001b[38;5;28mself\u001b[39m\u001b[38;5;241m.\u001b[39mswarm\u001b[38;5;241m.\u001b[39mpbest_pos, \u001b[38;5;28mself\u001b[39m\u001b[38;5;241m.\u001b[39mswarm\u001b[38;5;241m.\u001b[39mpbest_cost \u001b[38;5;241m=\u001b[39m compute_pbest(\n\u001b[1;32m    199\u001b[0m         \u001b[38;5;28mself\u001b[39m\u001b[38;5;241m.\u001b[39mswarm\n\u001b[1;32m    200\u001b[0m     )\n\u001b[1;32m    201\u001b[0m     best_cost_yet_found \u001b[38;5;241m=\u001b[39m np\u001b[38;5;241m.\u001b[39mmin(\u001b[38;5;28mself\u001b[39m\u001b[38;5;241m.\u001b[39mswarm\u001b[38;5;241m.\u001b[39mbest_cost)\n",
      "File \u001b[0;32m~/.local/lib/python3.10/site-packages/pyswarms/backend/operators.py:239\u001b[0m, in \u001b[0;36mcompute_objective_function\u001b[0;34m(swarm, objective_func, pool, **kwargs)\u001b[0m\n\u001b[1;32m    214\u001b[0m \u001b[38;5;250m\u001b[39m\u001b[38;5;124;03m\"\"\"Evaluate particles using the objective function\u001b[39;00m\n\u001b[1;32m    215\u001b[0m \n\u001b[1;32m    216\u001b[0m \u001b[38;5;124;03mThis method evaluates each particle in the swarm according to the objective\u001b[39;00m\n\u001b[0;32m   (...)\u001b[0m\n\u001b[1;32m    236\u001b[0m \u001b[38;5;124;03m    Cost-matrix for the given swarm\u001b[39;00m\n\u001b[1;32m    237\u001b[0m \u001b[38;5;124;03m\"\"\"\u001b[39;00m\n\u001b[1;32m    238\u001b[0m \u001b[38;5;28;01mif\u001b[39;00m pool \u001b[38;5;129;01mis\u001b[39;00m \u001b[38;5;28;01mNone\u001b[39;00m:\n\u001b[0;32m--> 239\u001b[0m     \u001b[38;5;28;01mreturn\u001b[39;00m \u001b[43mobjective_func\u001b[49m\u001b[43m(\u001b[49m\u001b[43mswarm\u001b[49m\u001b[38;5;241;43m.\u001b[39;49m\u001b[43mposition\u001b[49m\u001b[43m,\u001b[49m\u001b[43m \u001b[49m\u001b[38;5;241;43m*\u001b[39;49m\u001b[38;5;241;43m*\u001b[39;49m\u001b[43mkwargs\u001b[49m\u001b[43m)\u001b[49m\n\u001b[1;32m    240\u001b[0m \u001b[38;5;28;01melse\u001b[39;00m:\n\u001b[1;32m    241\u001b[0m     results \u001b[38;5;241m=\u001b[39m pool\u001b[38;5;241m.\u001b[39mmap(\n\u001b[1;32m    242\u001b[0m         partial(objective_func, \u001b[38;5;241m*\u001b[39m\u001b[38;5;241m*\u001b[39mkwargs),\n\u001b[1;32m    243\u001b[0m         np\u001b[38;5;241m.\u001b[39marray_split(swarm\u001b[38;5;241m.\u001b[39mposition, pool\u001b[38;5;241m.\u001b[39m_processes),\n\u001b[1;32m    244\u001b[0m     )\n",
      "File \u001b[0;32m~/Documentos/IC/codigos/novo/GA-HH-main/src/hhsolver.py:78\u001b[0m, in \u001b[0;36mHHSolverPSO.obj_func2\u001b[0;34m(self, sample)\u001b[0m\n\u001b[1;32m     76\u001b[0m \u001b[38;5;28;01mdef\u001b[39;00m \u001b[38;5;21mobj_func2\u001b[39m(\u001b[38;5;28mself\u001b[39m, sample):\n\u001b[1;32m     77\u001b[0m     indexList \u001b[38;5;241m=\u001b[39m np\u001b[38;5;241m.\u001b[39mwhere(sample \u001b[38;5;241m==\u001b[39m \u001b[38;5;241m1\u001b[39m)[\u001b[38;5;241m0\u001b[39m]\n\u001b[0;32m---> 78\u001b[0m     cost \u001b[38;5;241m=\u001b[39m obj_func(indexList,\u001b[38;5;28mself\u001b[39m\u001b[38;5;241m.\u001b[39mdata)\u001b[38;5;241m*\u001b[39m(\u001b[43mmath\u001b[49m\u001b[38;5;241;43m.\u001b[39;49m\u001b[43mexp\u001b[49m\u001b[43m(\u001b[49m\u001b[38;5;28;43mabs\u001b[39;49m\u001b[43m(\u001b[49m\u001b[38;5;28;43mself\u001b[39;49m\u001b[38;5;241;43m.\u001b[39;49m\u001b[43msample_size\u001b[49m\u001b[43m \u001b[49m\u001b[38;5;241;43m-\u001b[39;49m\u001b[43m \u001b[49m\u001b[43mindexList\u001b[49m\u001b[38;5;241;43m.\u001b[39;49m\u001b[43msize\u001b[49m\u001b[43m)\u001b[49m\u001b[43m)\u001b[49m)\n\u001b[1;32m     79\u001b[0m     \u001b[38;5;28;01mreturn\u001b[39;00m cost\n",
      "\u001b[0;31mOverflowError\u001b[0m: math range error"
     ]
    }
   ],
   "source": [
    "for sample in sample_size:\n",
    "        # pre-generate noises used in each batch\n",
    "        ma = 2\n",
    "        noise = []\n",
    "        populations = []\n",
    "        for i in range(nalloc):\n",
    "            z = generate_noise(x.shape[0], ma)\n",
    "            # hhsamplingGA require transformed noise\n",
    "            zt = z @ inversecholcov(z)\n",
    "            noise.append(zt)\n",
    "            populations.append(generate_pop(50, sample, x.shape[0]))\n",
    "\n",
    "        stats_aux = {\"distq95\": [], \"fkappa\": []}\n",
    "\n",
    "        for i in range(len(lambdas)):\n",
    "            res = hhsampling(x, lambdas[i], nalloc, sample, noise, populations,solver)\n",
    "            for k in stats_aux:\n",
    "                stats_aux[k].append(res[k])\n",
    "\n",
    "        stats = pd.DataFrame(stats_aux)\n",
    "\n",
    "        # br = '-----------------------------'\n",
    "        # print(br)\n",
    "        # print(stats)\n",
    "        # print(br)\n",
    "\n",
    "\n",
    "        fig, axs = plt.subplots(2)\n",
    "        fig.suptitle(f'Allocations stats for haphazard with GA (sample size: {sample})')\n",
    "\n",
    "        axs[0].plot(lambdas, stats[\"distq95\"])\n",
    "        axs[0].set_title(\"Mahalanobis 95th quantile\")\n",
    "\n",
    "        axs[1].plot(lambdas, stats[\"fkappa\"])\n",
    "        axs[1].set_title(\"Fleiss Kappa\")\n",
    "\n",
    "        fig.tight_layout()\n",
    "\n",
    "        figname = str(sample) + \".png\"\n",
    "        fileNames.append(\"../output/img\" + figname)\n",
    "        plt.savefig(\"../output/img\" + figname, format=\"png\", bbox_inches=\"tight\")\n"
   ]
  }
 ],
 "metadata": {
  "kernelspec": {
   "display_name": "Python 3 (ipykernel)",
   "language": "python",
   "name": "python3"
  },
  "language_info": {
   "codemirror_mode": {
    "name": "ipython",
    "version": 3
   },
   "file_extension": ".py",
   "mimetype": "text/x-python",
   "name": "python",
   "nbconvert_exporter": "python",
   "pygments_lexer": "ipython3",
   "version": "3.10.12"
  }
 },
 "nbformat": 4,
 "nbformat_minor": 2
}
