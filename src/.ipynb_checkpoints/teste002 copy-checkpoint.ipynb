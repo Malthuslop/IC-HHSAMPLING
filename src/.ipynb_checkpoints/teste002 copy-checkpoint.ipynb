{
 "cells": [
  {
   "cell_type": "code",
   "execution_count": 1,
   "metadata": {},
   "outputs": [],
   "source": [
    "from hhsolver import *\n",
    "import aspose.words as aw\n",
    "from PIL import Image\n",
    "from hhsampling import *\n",
    "import numpy as np"
   ]
  },
  {
   "cell_type": "code",
   "execution_count": 2,
   "metadata": {},
   "outputs": [],
   "source": [
    "%load_ext autoreload\n"
   ]
  },
  {
   "cell_type": "code",
   "execution_count": 3,
   "metadata": {},
   "outputs": [],
   "source": [
    "%autoreload 2"
   ]
  },
  {
   "cell_type": "code",
   "execution_count": 8,
   "metadata": {},
   "outputs": [],
   "source": [
    "file_path = '../data/Candidatos20230803_n.txt'\n",
    "data = collect_data(file_path=file_path).to_numpy()\n",
    "\n",
    "lambda_n = 0#, 0.1, 0.15, 0.2, 0.25, 0.3, 0.35, 0.4, 0.45, 0.5]\n",
    "\n",
    "nalloc = 60\n",
    "\n",
    "sample_size = [60,120]#[60, 120, 180, 240] \n",
    "\n",
    "fileNames = []\n",
    "\n",
    "time_limit = 10\n",
    "\n",
    "# hhsamplingGA require transformed data\n",
    "x = data @ inversecholcov(data)\n",
    "solver = HHSolverPSO"
   ]
  },
  {
   "cell_type": "code",
   "execution_count": null,
   "metadata": {},
   "outputs": [],
   "source": [
    "#Teste com lambda 0\n",
    "fig, axs = plt.subplots(len(sample_size), 1, figsize=(8, 10), sharex=True)\n",
    "min = []\n",
    "for index, sample in enumerate(sample_size):\n",
    "        # pre-generate noises used in each batch\n",
    "        ma = 2\n",
    "        noise = []\n",
    "        populations = []\n",
    "        for i in range(nalloc):\n",
    "            z = generate_noise(x.shape[0], ma)\n",
    "            # hhsamplingGA require transformed noise\n",
    "            zt = z @ inversecholcov(z)\n",
    "            noise.append(zt)\n",
    "            populations.append(generate_pop(50, sample, x.shape[0]))\n",
    "\n",
    "        stats_aux = {\"distq95\": [], \"fkappa\": []}\n",
    "\n",
    "        #for i in range(len(lambdas)):\n",
    "        res = hhsampling(x, lambda_n, nalloc, sample, noise, populations, solver, time_limit)\n",
    "        for k in stats_aux:\n",
    "            stats_aux[k].append(res[k])\n",
    "        \n",
    "        dist = list(np.array(res[\"dist\"]))\n",
    "        plt.subplot(len(sample_size), 1, index+1)\n",
    "        \n",
    "        plt.hist(x = dist)\n",
    "        #min.append(min(dist))\n",
    "        plt.title(f'Sample Size: {sample}') \n",
    "       \n",
    "plt.tight_layout()\n",
    "plt.show()\n"
   ]
  }
 ],
 "metadata": {
  "kernelspec": {
   "display_name": "Python 3 (ipykernel)",
   "language": "python",
   "name": "python3"
  },
  "language_info": {
   "codemirror_mode": {
    "name": "ipython",
    "version": 3
   },
   "file_extension": ".py",
   "mimetype": "text/x-python",
   "name": "python",
   "nbconvert_exporter": "python",
   "pygments_lexer": "ipython3",
   "version": "3.10.12"
  }
 },
 "nbformat": 4,
 "nbformat_minor": 2
}
